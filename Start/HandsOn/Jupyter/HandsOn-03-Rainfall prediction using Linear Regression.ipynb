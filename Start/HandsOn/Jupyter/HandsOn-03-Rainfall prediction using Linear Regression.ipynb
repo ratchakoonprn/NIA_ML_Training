{
 "cells": [
  {
   "cell_type": "markdown",
   "metadata": {},
   "source": [
    "# Rainfall prediction using Linear Regression"
   ]
  },
  {
   "cell_type": "markdown",
   "metadata": {},
   "source": [
    "# 1) Cleaning the data"
   ]
  },
  {
   "cell_type": "code",
   "execution_count": null,
   "metadata": {},
   "outputs": [],
   "source": [
    "# importing libraries \n",
    "import pandas as pd \n",
    "import numpy as np \n",
    "import sklearn as sk \n",
    "from sklearn.linear_model import LinearRegression \n",
    "import matplotlib.pyplot as plt "
   ]
  },
  {
   "cell_type": "code",
   "execution_count": null,
   "metadata": {},
   "outputs": [],
   "source": [
    "# อ่านข้อมูลที่เตรียมไว้\n",
    "data = pd.read_csv('austin_weather.csv')\n",
    "data.head()"
   ]
  },
  {
   "cell_type": "code",
   "execution_count": null,
   "metadata": {},
   "outputs": [],
   "source": [
    "# ลบ features ที่ไม่ต้องการ\n",
    "data = data.drop(['Events', 'Date', 'SeaLevelPressureHighInches',  \n",
    "                  'SeaLevelPressureLowInches'], axis = 1) \n",
    "data.head()"
   ]
  },
  {
   "cell_type": "code",
   "execution_count": null,
   "metadata": {},
   "outputs": [],
   "source": [
    "data.shape"
   ]
  },
  {
   "cell_type": "code",
   "execution_count": null,
   "metadata": {},
   "outputs": [],
   "source": [
    "# some values have 'T' which denotes trace rainfall (row number 6,8,9)\n",
    "# we need to replace all occurrences of T with 0 \n",
    "# so that we can use the data in our model \n",
    "data = data.replace('T', 0.0)\n",
    "data"
   ]
  },
  {
   "cell_type": "code",
   "execution_count": null,
   "metadata": {},
   "outputs": [],
   "source": [
    "# the data also contains '-' which indicates no  (row number 176-179)\n",
    "# or NIL. This means that data is not available \n",
    "# we need to replace these values as well. \n",
    "data = data.replace('-', 0.0) "
   ]
  },
  {
   "cell_type": "code",
   "execution_count": null,
   "metadata": {},
   "outputs": [],
   "source": [
    "# save the data in a csv file \n",
    "data.to_csv('austin_final.csv')"
   ]
  },
  {
   "cell_type": "markdown",
   "metadata": {},
   "source": [
    "# 2) Scikit-learn’s linear regression model "
   ]
  },
  {
   "cell_type": "code",
   "execution_count": null,
   "metadata": {},
   "outputs": [],
   "source": [
    "# importing libraries \n",
    "import pandas as pd \n",
    "import numpy as np \n",
    "import sklearn as sk \n",
    "from sklearn.linear_model import LinearRegression \n",
    "import matplotlib.pyplot as plt"
   ]
  },
  {
   "cell_type": "code",
   "execution_count": null,
   "metadata": {},
   "outputs": [],
   "source": [
    "# read the cleaned data \n",
    "data = pd.read_csv('austin_final.csv')"
   ]
  },
  {
   "cell_type": "code",
   "execution_count": null,
   "metadata": {},
   "outputs": [],
   "source": [
    "# the features or the 'x' values of the data \n",
    "# these columns are used to train the model \n",
    "# the last column, i.e, precipitation column  \n",
    "# will serve as the label  \n",
    "X = data.drop(['PrecipitationSumInches'], axis = 1)"
   ]
  },
  {
   "cell_type": "code",
   "execution_count": null,
   "metadata": {},
   "outputs": [],
   "source": [
    "# the output or the label. \n",
    "Y = data['PrecipitationSumInches'] \n",
    "# reshaping it into a 2-D vector \n",
    "Y = Y.values.reshape(-1, 1) "
   ]
  },
  {
   "cell_type": "code",
   "execution_count": null,
   "metadata": {},
   "outputs": [],
   "source": [
    "# consider a random day in the dataset \n",
    "# we shall plot a graph and observe this day (798)\n",
    "day_index = 798\n",
    "days = [i for i in range(Y.size)]"
   ]
  },
  {
   "cell_type": "code",
   "execution_count": null,
   "metadata": {},
   "outputs": [],
   "source": [
    "# initialize a linear regression classifier \n",
    "clf = LinearRegression()"
   ]
  },
  {
   "cell_type": "code",
   "execution_count": null,
   "metadata": {},
   "outputs": [],
   "source": [
    "# train the classifier with our  \n",
    "# input data. \n",
    "clf.fit(X, Y)"
   ]
  },
  {
   "cell_type": "code",
   "execution_count": null,
   "metadata": {},
   "outputs": [],
   "source": [
    "# give a sample input to test our model \n",
    "# this is a 2-D vector that contains values \n",
    "# for each column in the dataset. \n",
    "inp = np.array([[74], [60], [45], [67], [49], [43], [33], [45], \n",
    "                [57], [29.68], [10], [7], [2], [0], [20], [4], [31]]) \n",
    "inp = inp.reshape(1, -1)"
   ]
  },
  {
   "cell_type": "code",
   "execution_count": null,
   "metadata": {},
   "outputs": [],
   "source": [
    "# print the output. \n",
    "print('The precipitation in inches for the input is:', clf.predict(inp))"
   ]
  },
  {
   "cell_type": "code",
   "execution_count": null,
   "metadata": {},
   "outputs": [],
   "source": [
    "# plot a graph of the precipitation levels \n",
    "# versus the total number of days. \n",
    "# one day, which is in red, is \n",
    "# tracked here. It has a precipitation \n",
    "# of approx. 2 inches. \n",
    "print(\"the precipitation trend graph: \") \n",
    "plt.scatter(days, Y, color = 'g') \n",
    "plt.scatter(days[day_index], Y[day_index], color ='r') \n",
    "plt.title(\"Precipitation level\") \n",
    "plt.xlabel(\"Days\") \n",
    "plt.ylabel(\"Precipitation in inches\") \n",
    "plt.show() "
   ]
  },
  {
   "cell_type": "code",
   "execution_count": null,
   "metadata": {},
   "outputs": [],
   "source": [
    "# filter data for displaying\n",
    "x_vis = X.filter(['TempAvgF', 'DewPointAvgF', 'HumidityAvgPercent', \n",
    "                  'SeaLevelPressureAvgInches', 'VisibilityAvgMiles', \n",
    "                  'WindAvgMPH'], axis = 1)"
   ]
  },
  {
   "cell_type": "code",
   "execution_count": null,
   "metadata": {},
   "outputs": [],
   "source": [
    "x_vis.columns"
   ]
  },
  {
   "cell_type": "code",
   "execution_count": null,
   "metadata": {},
   "outputs": [],
   "source": [
    "x_vis.columns.size"
   ]
  },
  {
   "cell_type": "code",
   "execution_count": null,
   "metadata": {},
   "outputs": [],
   "source": [
    "# plot a graph with a few features (x values) \n",
    "# against the precipitation or rainfall to observe \n",
    "# the trends \n",
    "  \n",
    "print(\"Precipitation vs selected attributes graph: \")\n",
    "for i in range(x_vis.columns.size): \n",
    "    plt.subplot(3, 2, i + 1) #Add a subplot to the current figure; nrows=3,ncols=2,index=i+1\n",
    "    #x=days, y=x_vis.columns.values (between 0 and 99)\n",
    "    plt.scatter(days,\n",
    "                x_vis[x_vis.columns.values[i][:100]], \n",
    "                color = 'g') \n",
    "  \n",
    "    plt.scatter(days[day_index],  \n",
    "                x_vis[x_vis.columns.values[i]][day_index], \n",
    "                color ='r') \n",
    "  \n",
    "    plt.title(x_vis.columns.values[i]) \n",
    "  \n",
    "plt.show()"
   ]
  },
  {
   "cell_type": "markdown",
   "metadata": {},
   "source": [
    "A day (in red) having precipitation of about 2 inches is tracked across multiple parameters (the same day is tracker across multiple features such as temperature, pressure, etc). \n",
    "\n",
    "The x-axis denotes the days and the y-axis denotes the magnitude of the feature such as temperature, pressure, etc. \n",
    "\n",
    "From the graph, it can be observed that rainfall can be expected to be high when the temperature is high and humidity is high."
   ]
  }
 ],
 "metadata": {
  "kernelspec": {
   "display_name": "Python 3",
   "language": "python",
   "name": "python3"
  },
  "language_info": {
   "codemirror_mode": {
    "name": "ipython",
    "version": 3
   },
   "file_extension": ".py",
   "mimetype": "text/x-python",
   "name": "python",
   "nbconvert_exporter": "python",
   "pygments_lexer": "ipython3",
   "version": "3.7.6"
  }
 },
 "nbformat": 4,
 "nbformat_minor": 4
}
