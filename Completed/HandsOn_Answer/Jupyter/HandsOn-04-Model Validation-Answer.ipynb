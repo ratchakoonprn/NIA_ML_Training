{
 "cells": [
  {
   "cell_type": "markdown",
   "metadata": {},
   "source": [
    "# Model Validation Iris Data using K-Neighbor"
   ]
  },
  {
   "cell_type": "code",
   "execution_count": 1,
   "metadata": {
    "colab": {},
    "colab_type": "code",
    "id": "b5DmBLUnCgd6"
   },
   "outputs": [],
   "source": [
    "from sklearn.datasets import load_iris\n",
    "iris = load_iris()\n",
    "X = iris.data\n",
    "y = iris.target"
   ]
  },
  {
   "cell_type": "code",
   "execution_count": 2,
   "metadata": {
    "colab": {},
    "colab_type": "code",
    "id": "NMoilH3bCvSx"
   },
   "outputs": [],
   "source": [
    "from sklearn.neighbors import KNeighborsClassifier\n",
    "model = KNeighborsClassifier(n_neighbors=1) #point 1"
   ]
  },
  {
   "cell_type": "code",
   "execution_count": 3,
   "metadata": {
    "colab": {},
    "colab_type": "code",
    "id": "i76zYjQpCw19"
   },
   "outputs": [],
   "source": [
    "model.fit(X, y)\n",
    "y_model = model.predict(X) #point 2"
   ]
  },
  {
   "cell_type": "code",
   "execution_count": 4,
   "metadata": {
    "colab": {
     "base_uri": "https://localhost:8080/",
     "height": 34
    },
    "colab_type": "code",
    "executionInfo": {
     "elapsed": 1229,
     "status": "ok",
     "timestamp": 1591537779590,
     "user": {
      "displayName": "Ratchakoon Pruengkarn",
      "photoUrl": "https://lh3.googleusercontent.com/a-/AOh14GgBJYtqvrn93_TeA_BJ-ed2YSIMtEenOMgkWNKmew=s64",
      "userId": "12240144353335608866"
     },
     "user_tz": -420
    },
    "id": "qLwyxMM9CzRv",
    "outputId": "5ed24e53-97f3-45dc-9bb2-809df1754ad6"
   },
   "outputs": [
    {
     "data": {
      "text/plain": [
       "1.0"
      ]
     },
     "execution_count": 4,
     "metadata": {},
     "output_type": "execute_result"
    }
   ],
   "source": [
    "from sklearn.metrics import accuracy_score\n",
    "accuracy_score(y, y_model) #point 3"
   ]
  },
  {
   "cell_type": "markdown",
   "metadata": {},
   "source": [
    "โมเดลเราดีขนาดที่สามารถทำนายถูกต้อง 100% เลยหรือ\n",
    "หรือ เราทำอะไรผิดไปหรือเปล่า"
   ]
  },
  {
   "cell_type": "markdown",
   "metadata": {},
   "source": [
    "# 1) Holdout"
   ]
  },
  {
   "cell_type": "code",
   "execution_count": 5,
   "metadata": {
    "colab": {
     "base_uri": "https://localhost:8080/",
     "height": 34
    },
    "colab_type": "code",
    "executionInfo": {
     "elapsed": 1166,
     "status": "ok",
     "timestamp": 1591538649608,
     "user": {
      "displayName": "Ratchakoon Pruengkarn",
      "photoUrl": "https://lh3.googleusercontent.com/a-/AOh14GgBJYtqvrn93_TeA_BJ-ed2YSIMtEenOMgkWNKmew=s64",
      "userId": "12240144353335608866"
     },
     "user_tz": -420
    },
    "id": "TnfQ-mrRF-PC",
    "outputId": "f399cf3e-3237-41ab-8e0a-1ac6ab4a6be3"
   },
   "outputs": [
    {
     "data": {
      "text/plain": [
       "0.9066666666666666"
      ]
     },
     "execution_count": 5,
     "metadata": {},
     "output_type": "execute_result"
    }
   ],
   "source": [
    "from sklearn.model_selection import train_test_split\n",
    "# Holdout => split the data with 50% in each set1 แบ่งว่าจะเป็น Training และ Testing data เท่าไร\n",
    "X1, X2, y1, y2 = train_test_split(X, y, random_state=0, train_size=0.5)\n",
    "#X1 => X_train\n",
    "#X2 => X_test\n",
    "#y1 => y_train\n",
    "#y2 => y_test\n",
    "\n",
    "\n",
    "# fit the model on one set of data\n",
    "model.fit(X1, y1) #still using n_neighbors=1\n",
    "\n",
    "# evaluate the model on the second set of data\n",
    "y2_model = model.predict(X2)\n",
    "accuracy_score(y2, y2_model)"
   ]
  },
  {
   "cell_type": "code",
   "execution_count": 6,
   "metadata": {
    "colab": {
     "base_uri": "https://localhost:8080/",
     "height": 34
    },
    "colab_type": "code",
    "executionInfo": {
     "elapsed": 1333,
     "status": "ok",
     "timestamp": 1591538943026,
     "user": {
      "displayName": "Ratchakoon Pruengkarn",
      "photoUrl": "https://lh3.googleusercontent.com/a-/AOh14GgBJYtqvrn93_TeA_BJ-ed2YSIMtEenOMgkWNKmew=s64",
      "userId": "12240144353335608866"
     },
     "user_tz": -420
    },
    "id": "2bUx-jlCHO-r",
    "outputId": "a5366fed-6ea0-41e3-a88a-1af8be2604d0"
   },
   "outputs": [
    {
     "data": {
      "text/plain": [
       "(0.96, 0.9066666666666666)"
      ]
     },
     "execution_count": 6,
     "metadata": {},
     "output_type": "execute_result"
    }
   ],
   "source": [
    "y1_model = model.fit(X2, y2).predict(X1)\n",
    "\n",
    "y2_model = model.fit(X1, y1).predict(X2) \n",
    "\n",
    "accuracy_score(y1, y1_model), accuracy_score(y2, y2_model)"
   ]
  },
  {
   "cell_type": "markdown",
   "metadata": {},
   "source": [
    "เมื่อใช้ Holdout technique แล้ว ความถูกต้องอยู่ที่ 96 หรือ 90.6 ขึ้นอยู่กับว่าเราเลือกอะไรเป็น Training และ Testing"
   ]
  },
  {
   "cell_type": "markdown",
   "metadata": {},
   "source": [
    "# 2) Cross-validation"
   ]
  },
  {
   "cell_type": "code",
   "execution_count": 7,
   "metadata": {
    "colab": {
     "base_uri": "https://localhost:8080/",
     "height": 34
    },
    "colab_type": "code",
    "executionInfo": {
     "elapsed": 1130,
     "status": "ok",
     "timestamp": 1591539327143,
     "user": {
      "displayName": "Ratchakoon Pruengkarn",
      "photoUrl": "https://lh3.googleusercontent.com/a-/AOh14GgBJYtqvrn93_TeA_BJ-ed2YSIMtEenOMgkWNKmew=s64",
      "userId": "12240144353335608866"
     },
     "user_tz": -420
    },
    "id": "8B7OEfhyIrLH",
    "outputId": "06f11456-f6ee-449a-ac50-25bee63e9e6c"
   },
   "outputs": [
    {
     "data": {
      "text/plain": [
       "array([0.96666667, 0.96666667, 0.93333333, 0.93333333, 1.        ])"
      ]
     },
     "execution_count": 7,
     "metadata": {},
     "output_type": "execute_result"
    }
   ],
   "source": [
    "from sklearn.model_selection import cross_val_score\n",
    "cross_val_score(model, X, y, cv=5) # cv=5 : 5-fold cross validation"
   ]
  },
  {
   "cell_type": "code",
   "execution_count": 8,
   "metadata": {
    "colab": {
     "base_uri": "https://localhost:8080/",
     "height": 170
    },
    "colab_type": "code",
    "executionInfo": {
     "elapsed": 1175,
     "status": "ok",
     "timestamp": 1591539874696,
     "user": {
      "displayName": "Ratchakoon Pruengkarn",
      "photoUrl": "https://lh3.googleusercontent.com/a-/AOh14GgBJYtqvrn93_TeA_BJ-ed2YSIMtEenOMgkWNKmew=s64",
      "userId": "12240144353335608866"
     },
     "user_tz": -420
    },
    "id": "VdZV23LpJLp1",
    "outputId": "2b8ee744-c34e-469e-a9e6-2aa1cd2bd870"
   },
   "outputs": [
    {
     "data": {
      "text/plain": [
       "array([1., 1., 1., 1., 1., 1., 1., 1., 1., 1., 1., 1., 1., 1., 1., 1., 1.,\n",
       "       1., 1., 1., 1., 1., 1., 1., 1., 1., 1., 1., 1., 1., 1., 1., 1., 1.,\n",
       "       1., 1., 1., 1., 1., 1., 1., 1., 1., 1., 1., 1., 1., 1., 1., 1., 1.,\n",
       "       1., 1., 1., 1., 1., 1., 1., 1., 1., 1., 1., 1., 1., 1., 1., 1., 1.,\n",
       "       1., 1., 0., 1., 0., 1., 1., 1., 1., 1., 1., 1., 1., 1., 1., 0., 1.,\n",
       "       1., 1., 1., 1., 1., 1., 1., 1., 1., 1., 1., 1., 1., 1., 1., 1., 1.,\n",
       "       1., 1., 1., 1., 0., 1., 1., 1., 1., 1., 1., 1., 1., 1., 1., 1., 1.,\n",
       "       0., 1., 1., 1., 1., 1., 1., 1., 1., 1., 1., 1., 1., 1., 0., 1., 1.,\n",
       "       1., 1., 1., 1., 1., 1., 1., 1., 1., 1., 1., 1., 1., 1.])"
      ]
     },
     "execution_count": 8,
     "metadata": {},
     "output_type": "execute_result"
    }
   ],
   "source": [
    "from sklearn.model_selection import LeaveOneOut\n",
    "from sklearn.model_selection import cross_val_score\n",
    "scores = cross_val_score(model, X, y, cv=LeaveOneOut())\n",
    "#cv=LeaveOneOut : Leave-One-Out cross-validator\n",
    "#Each sample is used once as a test set (singleton) while the remaining samples form the training set.\n",
    "scores"
   ]
  },
  {
   "cell_type": "code",
   "execution_count": 9,
   "metadata": {
    "colab": {
     "base_uri": "https://localhost:8080/",
     "height": 34
    },
    "colab_type": "code",
    "executionInfo": {
     "elapsed": 1179,
     "status": "ok",
     "timestamp": 1591540081163,
     "user": {
      "displayName": "Ratchakoon Pruengkarn",
      "photoUrl": "https://lh3.googleusercontent.com/a-/AOh14GgBJYtqvrn93_TeA_BJ-ed2YSIMtEenOMgkWNKmew=s64",
      "userId": "12240144353335608866"
     },
     "user_tz": -420
    },
    "id": "yGqGV91sKKM5",
    "outputId": "8a8552ff-c889-4eed-8ec4-41ca7d589050"
   },
   "outputs": [
    {
     "data": {
      "text/plain": [
       "(150,)"
      ]
     },
     "execution_count": 9,
     "metadata": {},
     "output_type": "execute_result"
    }
   ],
   "source": [
    "scores.shape"
   ]
  },
  {
   "cell_type": "code",
   "execution_count": 10,
   "metadata": {
    "colab": {
     "base_uri": "https://localhost:8080/",
     "height": 34
    },
    "colab_type": "code",
    "executionInfo": {
     "elapsed": 1166,
     "status": "ok",
     "timestamp": 1591540393913,
     "user": {
      "displayName": "Ratchakoon Pruengkarn",
      "photoUrl": "https://lh3.googleusercontent.com/a-/AOh14GgBJYtqvrn93_TeA_BJ-ed2YSIMtEenOMgkWNKmew=s64",
      "userId": "12240144353335608866"
     },
     "user_tz": -420
    },
    "id": "uwpEB70rMxJD",
    "outputId": "c321b998-503f-4b77-bc90-952ff6a11c51"
   },
   "outputs": [
    {
     "data": {
      "text/plain": [
       "0.96"
      ]
     },
     "execution_count": 10,
     "metadata": {},
     "output_type": "execute_result"
    }
   ],
   "source": [
    "scores.mean()"
   ]
  }
 ],
 "metadata": {
  "colab": {
   "authorship_tag": "ABX9TyPMFxIdC/pPGGrzZr2MzXaR",
   "name": "03-Model Validation.ipynb",
   "provenance": []
  },
  "kernelspec": {
   "display_name": "Python 3",
   "language": "python",
   "name": "python3"
  },
  "language_info": {
   "codemirror_mode": {
    "name": "ipython",
    "version": 3
   },
   "file_extension": ".py",
   "mimetype": "text/x-python",
   "name": "python",
   "nbconvert_exporter": "python",
   "pygments_lexer": "ipython3",
   "version": "3.7.6"
  }
 },
 "nbformat": 4,
 "nbformat_minor": 1
}
